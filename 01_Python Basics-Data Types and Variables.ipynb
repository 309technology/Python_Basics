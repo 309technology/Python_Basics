{
 "cells": [
  {
   "cell_type": "markdown",
   "id": "97fd810c",
   "metadata": {},
   "source": [
    "# DataTypes and Variables\n",
    "\n",
    "- A variable is a location in memory, given a specific name, used for storing\n",
    "object references. \n",
    "The names given to both functions and variables are also\n",
    "called identifiers\n",
    "- There are specific rules we must follow:\n",
    "    1. Identifiers may only begin with an underscore `(_)` or a letter but not\n",
    "numbers. So, `my_var` is a valid variable name, `1var` is not.\n",
    "    2. Identifiers may be made up of a combination of numbers letters and\n",
    "underscores, no other characters. For example, you could have\n",
    "`python_101` or `_python`, but you could not have `$python$`.\n",
    "    3. There is no limit on the length of an identifier name, although\n",
    "keeping them short and to the point is recommended.\n",
    "    4. You cannot use any Python **keywords** as an identifier name. These\n",
    "are reserved for use by Python for specific purposes.\n",
    "    5. Variable names are case-sensitive (age, Age and AGE are three different variables)"
   ]
  },
  {
   "cell_type": "markdown",
   "id": "748bdef5",
   "metadata": {},
   "source": [
    "**Example:**\n",
    "\n",
    "Legal variable names:\n",
    "\n",
    "myvar = \"John\"  \n",
    "my_var = \"John\"  \n",
    "_my_var = \"John\"  \n",
    "myVar = \"John\"  \n",
    "MYVAR = \"John\"  \n",
    "myvar2 = \"John\"  \n",
    "\n",
    "Illegal variable names:\n",
    "\n",
    "2myvar = \"John\"  \n",
    "my-var = \"John\"  \n",
    "my var = \"John\"  \n"
   ]
  },
  {
   "cell_type": "code",
   "execution_count": 8,
   "id": "8fb5c81e",
   "metadata": {},
   "outputs": [
    {
     "ename": "SyntaxError",
     "evalue": "invalid syntax (3407628864.py, line 3)",
     "output_type": "error",
     "traceback": [
      "\u001b[1;36m  Input \u001b[1;32mIn [8]\u001b[1;36m\u001b[0m\n\u001b[1;33m    2myvar = \"John\"\u001b[0m\n\u001b[1;37m     ^\u001b[0m\n\u001b[1;31mSyntaxError\u001b[0m\u001b[1;31m:\u001b[0m invalid syntax\n"
     ]
    }
   ],
   "source": []
  },
  {
   "cell_type": "markdown",
   "id": "019ac076",
   "metadata": {},
   "source": [
    "- Unlike other programming languages, you don’t have to declare variable\n",
    "types before you need them.  \n",
    "The interpreter will know what the variable type is using the data in it.  \n",
    "You can change the type of a variable at any time.\n",
    "\n",
    "- We use the '\"=\" sign to assign variables with values, also called the ‘assignment\n",
    "operator.’\n"
   ]
  },
  {
   "cell_type": "markdown",
   "id": "f2acb385",
   "metadata": {},
   "source": [
    "- Python has no command for declaring a variable.\n",
    "\n",
    "- A variable is created the moment you first assign a value to it."
   ]
  },
  {
   "cell_type": "markdown",
   "id": "133e2f10",
   "metadata": {},
   "source": [
    "**Example:** \n",
    "    \n",
    "x =10\n",
    "\n",
    "pi = 3.14\n",
    "\n",
    "string_ = \"Hello World\""
   ]
  },
  {
   "cell_type": "markdown",
   "id": "6eb31850",
   "metadata": {},
   "source": [
    "**Note:**\n",
    "\n",
    "Values assigned to variables are not stored in the variable. Instead, only a\n",
    "reference of the object’s location in memory is stored.  \n",
    "So, in the code above, the variable named x is storing a reference to 10,\n",
    "which is the int object, and not 10 as a number"
   ]
  },
  {
   "cell_type": "code",
   "execution_count": null,
   "id": "b19edcfb",
   "metadata": {},
   "outputs": [],
   "source": [
    "### Simultaneous Assignment\n",
    "Simultaneous assignment, also called multiple assignment, lets us give values  \n",
    "to more than one variable at a time. The syntax for this is:\n",
    "\n",
    "`var1, var2, ..., varn = exp1, exp2, ..., expn`  \n",
    "\n",
    "That statement tells Python that all expressions to the right should be  \n",
    "evaluated and assigned in the corresponding order to the correct variable to the left.\n",
    "\n"
   ]
  },
  {
   "cell_type": "code",
   "execution_count": 3,
   "id": "8284b845",
   "metadata": {},
   "outputs": [
    {
     "name": "stdout",
     "output_type": "stream",
     "text": [
      "1\n",
      "2\n"
     ]
    },
    {
     "data": {
      "text/plain": [
       "(1, 2)"
      ]
     },
     "execution_count": 3,
     "metadata": {},
     "output_type": "execute_result"
    }
   ],
   "source": [
    "# Try this example:\n",
    "a, b = 1, 2\n",
    "print(a)\n",
    "print(b)\n",
    "\n",
    "# The output should be: 1, 2\n"
   ]
  },
  {
   "cell_type": "code",
   "execution_count": 4,
   "id": "8eb40baf",
   "metadata": {},
   "outputs": [
    {
     "name": "stdout",
     "output_type": "stream",
     "text": [
      "2\n",
      "1\n"
     ]
    }
   ],
   "source": [
    "# For example:\n",
    "x = 1 # x has a starting value of 1\n",
    "y = 2 # y has a starting value of 2\n",
    "y, x = x, y # swap the x and y values\n",
    "\n",
    "print(x) # x has a final value of 2\n",
    "print(y) # y has a final value of "
   ]
  },
  {
   "cell_type": "code",
   "execution_count": null,
   "id": "ff67972d",
   "metadata": {},
   "outputs": [],
   "source": [
    "### One Value to Multiple Variables\n",
    "You can assign the same value to multiple variables in one line:\n",
    "\n"
   ]
  },
  {
   "cell_type": "code",
   "execution_count": 5,
   "id": "6539ee16",
   "metadata": {},
   "outputs": [
    {
     "name": "stdout",
     "output_type": "stream",
     "text": [
      "Orange\n",
      "Orange\n",
      "Orange\n"
     ]
    }
   ],
   "source": [
    "# Example\n",
    "x = y = z = \"Orange\"\n",
    "print(x)\n",
    "print(y)\n",
    "print(z)\n"
   ]
  },
  {
   "cell_type": "code",
   "execution_count": 6,
   "id": "4577cf86",
   "metadata": {},
   "outputs": [
    {
     "name": "stdout",
     "output_type": "stream",
     "text": [
      "1648345375856\n",
      "1648345375856\n",
      "1648345375856\n"
     ]
    }
   ],
   "source": [
    "print(id(x))\n",
    "print(id(y))\n",
    "print(id(z))"
   ]
  },
  {
   "cell_type": "markdown",
   "id": "df08f12b",
   "metadata": {},
   "source": [
    "### Output Variables\n",
    "The Python `print()` function is often used to output variables.\n",
    "\n"
   ]
  },
  {
   "cell_type": "code",
   "execution_count": 9,
   "id": "7551c07d",
   "metadata": {},
   "outputs": [
    {
     "name": "stdout",
     "output_type": "stream",
     "text": [
      "Python is awesome\n"
     ]
    }
   ],
   "source": [
    "# Example\n",
    "x = \"Python is awesome\"\n",
    "print(x)"
   ]
  },
  {
   "cell_type": "markdown",
   "id": "d301a530",
   "metadata": {},
   "source": [
    "In the print() function, you output multiple variables, separated by a comma:\n",
    "\n"
   ]
  },
  {
   "cell_type": "code",
   "execution_count": 10,
   "id": "f1682678",
   "metadata": {},
   "outputs": [
    {
     "name": "stdout",
     "output_type": "stream",
     "text": [
      "Python is awesome\n"
     ]
    }
   ],
   "source": [
    "# Example\n",
    "x = \"Python\"\n",
    "y = \"is\"\n",
    "z = \"awesome\"\n",
    "print(x, y, z)"
   ]
  },
  {
   "cell_type": "markdown",
   "id": "85b0558a",
   "metadata": {},
   "source": [
    "You can also use the + operator to output multiple (string) variables:\n",
    "\n"
   ]
  },
  {
   "cell_type": "code",
   "execution_count": 11,
   "id": "5b1c6202",
   "metadata": {},
   "outputs": [
    {
     "name": "stdout",
     "output_type": "stream",
     "text": [
      "Python is awesome\n"
     ]
    }
   ],
   "source": [
    "#Example\n",
    "x = \"Python \"\n",
    "y = \"is \"\n",
    "z = \"awesome\"\n",
    "print(x + y + z)"
   ]
  },
  {
   "cell_type": "markdown",
   "id": "683006be",
   "metadata": {},
   "source": [
    "Notice the space character after \"Python \" and \"is \", without them the result would be \"Pythonisawesome\"."
   ]
  },
  {
   "cell_type": "markdown",
   "id": "e6c3e8f9",
   "metadata": {},
   "source": [
    "For numbers, the + character works as a mathematical operator:\n",
    "\n"
   ]
  },
  {
   "cell_type": "code",
   "execution_count": null,
   "id": "9a50605d",
   "metadata": {},
   "outputs": [],
   "source": [
    "#Example\n",
    "x = 5\n",
    "y = 10\n",
    "print(x + y)"
   ]
  },
  {
   "cell_type": "markdown",
   "id": "900e624e",
   "metadata": {},
   "source": [
    "In the print() function, when you try to combine a string and a number with the + operator, Python will give you an error:\n",
    "\n"
   ]
  },
  {
   "cell_type": "code",
   "execution_count": 12,
   "id": "476c3bbb",
   "metadata": {},
   "outputs": [
    {
     "ename": "TypeError",
     "evalue": "unsupported operand type(s) for +: 'int' and 'str'",
     "output_type": "error",
     "traceback": [
      "\u001b[1;31m---------------------------------------------------------------------------\u001b[0m",
      "\u001b[1;31mTypeError\u001b[0m                                 Traceback (most recent call last)",
      "Input \u001b[1;32mIn [12]\u001b[0m, in \u001b[0;36m<cell line: 4>\u001b[1;34m()\u001b[0m\n\u001b[0;32m      2\u001b[0m x \u001b[38;5;241m=\u001b[39m \u001b[38;5;241m5\u001b[39m\n\u001b[0;32m      3\u001b[0m y \u001b[38;5;241m=\u001b[39m \u001b[38;5;124m\"\u001b[39m\u001b[38;5;124mJohn\u001b[39m\u001b[38;5;124m\"\u001b[39m\n\u001b[1;32m----> 4\u001b[0m \u001b[38;5;28mprint\u001b[39m(\u001b[43mx\u001b[49m\u001b[43m \u001b[49m\u001b[38;5;241;43m+\u001b[39;49m\u001b[43m \u001b[49m\u001b[43my\u001b[49m)\n",
      "\u001b[1;31mTypeError\u001b[0m: unsupported operand type(s) for +: 'int' and 'str'"
     ]
    }
   ],
   "source": [
    "#Example\n",
    "x = 5\n",
    "y = \"John\"\n",
    "print(x + y)"
   ]
  },
  {
   "cell_type": "markdown",
   "id": "6139b97f",
   "metadata": {},
   "source": [
    "The best way to output multiple variables in the print() function is to separate them with commas, which even support different data types:\n",
    "\n"
   ]
  },
  {
   "cell_type": "code",
   "execution_count": 13,
   "id": "116d9d83",
   "metadata": {},
   "outputs": [
    {
     "name": "stdout",
     "output_type": "stream",
     "text": [
      "5 John\n"
     ]
    }
   ],
   "source": [
    "#Example\n",
    "x = 5\n",
    "y = \"John\"\n",
    "print(x, y)"
   ]
  },
  {
   "cell_type": "markdown",
   "id": "d3867ce0",
   "metadata": {},
   "source": [
    "### Data Types\n",
    "\n",
    "Variables can store data of different types, and different types can do different things.\n",
    "\n",
    "Built-in Data Types in Python\n",
    "\n",
    "Text Type: `str`  \n",
    "Numeric Types: `int`, `float`, `complex`  \n",
    "Sequence Types: `list`, `tuple`, `range` (also called data structures or data stores)    \n",
    "Mapping Type: `dict`  \n",
    "Set Types: `set`    \n",
    "Boolean Type: `bool`    \n",
    "None Type: `NoneType`  "
   ]
  },
  {
   "cell_type": "markdown",
   "id": "a3bf4807",
   "metadata": {},
   "source": [
    "#### Getting the Data Type\n",
    "You can get the data type of any object by using the `type()` function:\n",
    "\n",
    "\n",
    "\n"
   ]
  },
  {
   "cell_type": "code",
   "execution_count": 14,
   "id": "874ad261",
   "metadata": {},
   "outputs": [
    {
     "name": "stdout",
     "output_type": "stream",
     "text": [
      "<class 'int'>\n"
     ]
    }
   ],
   "source": [
    "#Example : Print the data type of the variable x:\n",
    "x = 5\n",
    "print(type(x))"
   ]
  },
  {
   "cell_type": "markdown",
   "id": "43bcff49",
   "metadata": {},
   "source": [
    "Example | $\\:\\:\\:\\:\\:\\:\\:$ $\\:\\:\\:\\:\\:\\:\\:$  Data Type | \n",
    ":-------------------|:---------------:|\n",
    "x = \"Hello World\"    $\\:\\:\\:\\:\\:\\:\\:$  $\\:\\:\\:\\:\\:\\:\\:$   | str    | \n",
    "x = 20 $\\:\\:\\:\\:\\:\\:\\:$  $\\:\\:\\:\\:\\:\\:\\:$  |int|\n",
    "x = 20.5 $\\:\\:\\:\\:\\:\\:\\:$  $\\:\\:\\:\\:\\:\\:\\:$ |float|\n",
    "x =2+ 1j $\\:\\:\\:\\:\\:\\:\\:$  $\\:\\:\\:\\:\\:\\:\\:$ |complex |\n",
    "x = [\"apple\", \"banana\", \"cherry\"] $\\:\\:\\:\\:\\:\\:\\:$  $\\:\\:\\:\\:\\:\\:\\:$ |list|\n",
    "x = (\"apple\", \"banana\", \"cherry\") $\\:\\:\\:\\:\\:\\:\\:$  $\\:\\:\\:\\:\\:\\:\\:$ |tuple|\n",
    "x = range(6) range\n",
    "x = {\"name\" : \"John\", \"age\" : 36} $\\:\\:\\:\\:\\:\\:\\:$  $\\:\\:\\:\\:\\:\\:\\:$ |dict |\n",
    "x = {\"apple\", \"banana\", \"cherry\"} $\\:\\:\\:\\:\\:\\:\\:$  $\\:\\:\\:\\:\\:\\:\\:$ |set |\n",
    "x = True $\\:\\:\\:\\:\\:\\:\\:$  $\\:\\:\\:\\:\\:\\:\\:$ |bool |\n",
    "x = None $\\:\\:\\:\\:\\:\\:\\:$  $\\:\\:\\:\\:\\:\\:\\:$  |NoneType|                                                     "
   ]
  },
  {
   "cell_type": "markdown",
   "id": "bc7bc085",
   "metadata": {},
   "source": [
    "### Python Casting\n",
    "You can specify a Variable Type\n",
    "This can be done with casting which is done by using constructor functions:\n",
    "\n",
    "`int()` - constructs an integer number from an integer, a float (by removing all decimals),   \n",
    "    or a string (providing the string represents a whole number)  \n",
    "`float()` - constructs a float number from an integer, a float or a string   \n",
    "`str()` - constructs a string from a wide variety of data types, including strings, integer and float\n",
    "\n"
   ]
  },
  {
   "cell_type": "code",
   "execution_count": 18,
   "id": "0fce5d4b",
   "metadata": {},
   "outputs": [
    {
     "name": "stdout",
     "output_type": "stream",
     "text": [
      "<class 'int'>\n",
      "<class 'int'>\n",
      "<class 'int'>\n"
     ]
    }
   ],
   "source": [
    "#Example \n",
    "\n",
    "#Integers:\n",
    "\n",
    "x = int(1)   # x will be 1\n",
    "y = int(2.8) # y will be 2\n",
    "z = int(\"3\") # z will be 3\n",
    "\n",
    "print(type(x))\n",
    "print(type(y))\n",
    "print(type(z))"
   ]
  },
  {
   "cell_type": "code",
   "execution_count": 19,
   "id": "38894edd",
   "metadata": {},
   "outputs": [],
   "source": [
    "#Floats:\n",
    "\n",
    "x = float(1)     # x will be 1.0\n",
    "y = float(2.8)   # y will be 2.8\n",
    "z = float(\"3\")   # z will be 3.0\n",
    "w = float(\"4.2\") # w will be 4.2\n",
    "\n",
    "#Strings:\n",
    "\n",
    "x = str(\"s1\") # x will be 's1'\n",
    "y = str(2)    # y will be '2'\n",
    "z = str(3.0)  # z will be '3.0'"
   ]
  },
  {
   "cell_type": "code",
   "execution_count": null,
   "id": "512352c6",
   "metadata": {},
   "outputs": [],
   "source": []
  },
  {
   "cell_type": "markdown",
   "id": "5fa962cb",
   "metadata": {},
   "source": [
    "### Receiving an Input from the Console\n",
    "We use the `input()` function for this, and the syntax is:\n",
    "\n",
    "`input([example])` -> string\n",
    "\n",
    "The function will take an optional argument of string type; the argument is\n",
    "called example, and the output is a string.\n",
    "\n"
   ]
  },
  {
   "cell_type": "code",
   "execution_count": 20,
   "id": "bba9bae1",
   "metadata": {},
   "outputs": [
    {
     "name": "stdout",
     "output_type": "stream",
     "text": [
      "Input your name: Nicat\n",
      "Nicat\n"
     ]
    }
   ],
   "source": [
    "# For example:\n",
    "name = input(\"Input your name: \")\n",
    "print(name)\n"
   ]
  },
  {
   "cell_type": "markdown",
   "id": "348e9e38",
   "metadata": {},
   "source": [
    "And the output will be whatever you typed in as your name  \n",
    "It is worth noting that, even if you input a number, `input()` will \n",
    "only return a string.   \n",
    "If you wanted a number output, you would need to use either the\n",
    "`eval()` or `int()` functions"
   ]
  },
  {
   "cell_type": "code",
   "execution_count": 21,
   "id": "e1d472ad",
   "metadata": {},
   "outputs": [
    {
     "name": "stdout",
     "output_type": "stream",
     "text": [
      "Enter your age: 38\n",
      "38\n",
      "<class 'int'>\n"
     ]
    }
   ],
   "source": [
    "# For example:\n",
    "age = int(input(\"Enter your age: \"))\n",
    "print(age)\n",
    "print(type(age))\n"
   ]
  },
  {
   "cell_type": "code",
   "execution_count": null,
   "id": "02a65add",
   "metadata": {},
   "outputs": [],
   "source": []
  }
 ],
 "metadata": {
  "kernelspec": {
   "display_name": "Python 3 (ipykernel)",
   "language": "python",
   "name": "python3"
  },
  "language_info": {
   "codemirror_mode": {
    "name": "ipython",
    "version": 3
   },
   "file_extension": ".py",
   "mimetype": "text/x-python",
   "name": "python",
   "nbconvert_exporter": "python",
   "pygments_lexer": "ipython3",
   "version": "3.9.12"
  }
 },
 "nbformat": 4,
 "nbformat_minor": 5
}
