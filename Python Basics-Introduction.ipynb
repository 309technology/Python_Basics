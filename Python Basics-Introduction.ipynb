{
 "cells": [
  {
   "cell_type": "markdown",
   "id": "9dafaaaf",
   "metadata": {},
   "source": [
    "### What is Python\n",
    "\n",
    "Python is one of the most powerful computer programming language.\n",
    "\n",
    "It can be used for:\n",
    "\n",
    "- Web applications\n",
    "- GUI applications\n",
    "- Software development\n",
    "- Mathematics and science\n",
    "- System scripting.\n",
    "- Data scraping from a website\n",
    "- Data analysis\n",
    "- Developing games\n",
    "- Building utilities for system administration\n",
    "- And much more"
   ]
  },
  {
   "cell_type": "markdown",
   "id": "fb2f3f5a",
   "metadata": {},
   "source": [
    "### Why Python?\n",
    "\n",
    "- Python works on different platforms (Windows, Mac, Linux, Raspberry Pi, etc).\n",
    "- Python has a simple syntax.\n",
    "- Python is an Interpreted Language:\n",
    "    - That means an interpreter is used to parse any program you write, one line at\n",
    "a time. With compiled languages, such as the C languages, a compiler is used\n",
    "to compile the code before it is executed.\n",
    "Interpreted computer languages are a little slower than compiled languages\n",
    "and don’t offer the performance benefits of compiled languages. However,\n",
    "the latter are too difficult and complicated for complete beginners to learn,\n",
    "and they require you to write every function, even the most basic ones.\n",
    "- Python can be treated in a procedural way, an object-oriented way or a functional way.\n",
    "- Dynamically Typed\n",
    "    - Unlike compiled languages, with Python, there is no need to define the data\n",
    "type of a variable before you need it. Python can infer it automatically based\n",
    "on the value type in the variable.\n",
    "        \n",
    "    <b>For example:</b>\n",
    "\n",
    "            myvar = \"Good Morning Python.\"\n",
    "In the above code line, we have a variable called `myvar`, and a string of\n",
    "“Good Morning Python” is assigned to it. That means `myvar` has a data type\n",
    "of a string.\n",
    "- Strongly Typed\n",
    "Python does not allow automatic conversions of data types. For example,\n",
    "1 + “2” would result in an error in Python\n",
    "- Less Code = More Achievement\n",
    "Python uses less code to achieve what other programs do; for example, it\n",
    "uses around one-third or one-fifth less code than Java.\n",
    "For example, you need only two lines of code to read Python files:\n",
    "\n",
    "`f = open(\"myfile.txt\") `\n",
    "\n",
    "`print(f.read())`\n"
   ]
  },
  {
   "cell_type": "markdown",
   "id": "dab5b1fe",
   "metadata": {},
   "source": [
    "### Installing Python\n",
    "\n",
    "Many PCs and Macs will have python already installed.\n",
    "To check if you have python installed on a Windows PC, \n",
    "search in the start bar for Python or run the following on the Command Line (cmd.exe):\n",
    "\n",
    "*C:\\Users\\User Name>python --version*\n",
    "    \n",
    "\n",
    "To check if you have python installed on a Linux or Mac,  \n",
    "then on linux open the command line or on Mac open the Terminal and type:\n",
    "\n",
    "*python --version*\n",
    "\n",
    "If you find that you do not have Python installed on your computer,  \n",
    "then you can download it for free from the following website: https://www.python.org/"
   ]
  },
  {
   "cell_type": "markdown",
   "id": "52178d0f",
   "metadata": {},
   "source": [
    "### Jupyter Notebook\n",
    "\n",
    "Jupyter is a free, open-source, interactive web tool that allows editing and running  files via a web browser.  \n",
    "\n",
    "###### To install Jupyter Notebook as part of Anaconda3: \n",
    "\n",
    "- Visit https://www.anaconda.com/products/distribution#Downloads\n",
    "- Select the version of Jupyter that matches your operating system\n",
    "- Download the installer and install Anaconda\n",
    "\n",
    "###### To launch a Jupyter notebook: \n",
    "\n",
    "- open your terminal  \n",
    "- navigate to  the directory where you would like to save your notebook\n",
    "- then type the command Jupyter notebook and the program will instantiate a local server at localhost:8888\n",
    "\n",
    "\n"
   ]
  },
  {
   "cell_type": "markdown",
   "id": "78dfedfe",
   "metadata": {},
   "source": [
    "#### Python Indentation\n",
    "- Indentation refers to the spaces at the beginning of a code line.\n",
    "- The indentation in Python is very important.\n",
    "- Python uses indentation to indicate a block of code.\n",
    "\n",
    "**Example:**\n",
    "\n",
    "if Statement is True:  \n",
    "$\\;\\;\\;\\;$ print(\"True statement\")"
   ]
  },
  {
   "cell_type": "markdown",
   "id": "de51b441",
   "metadata": {},
   "source": [
    "### Python Comments\n",
    "- Comments can be used to explain Python code.\n",
    "- Comments can be used to make the code more readable.\n",
    "- Comments can be used to prevent execution when testing code.\n",
    "\n",
    "#### Creating a Comment\n",
    "Comments starts with a #, and Python will ignore them:\n",
    "\n",
    "*Example:*\n",
    "\n"
   ]
  },
  {
   "cell_type": "code",
   "execution_count": 14,
   "id": "37b00343",
   "metadata": {},
   "outputs": [
    {
     "name": "stdout",
     "output_type": "stream",
     "text": [
      "Hello, World!\n"
     ]
    }
   ],
   "source": [
    "#This is a comment\n",
    "print(\"Hello, World!\")"
   ]
  }
 ],
 "metadata": {
  "kernelspec": {
   "display_name": "Python 3 (ipykernel)",
   "language": "python",
   "name": "python3"
  },
  "language_info": {
   "codemirror_mode": {
    "name": "ipython",
    "version": 3
   },
   "file_extension": ".py",
   "mimetype": "text/x-python",
   "name": "python",
   "nbconvert_exporter": "python",
   "pygments_lexer": "ipython3",
   "version": "3.9.12"
  }
 },
 "nbformat": 4,
 "nbformat_minor": 5
}
