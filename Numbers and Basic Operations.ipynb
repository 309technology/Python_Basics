{
 "cells": [
  {
   "cell_type": "markdown",
   "id": "af782df7",
   "metadata": {},
   "source": [
    "# Importing Libraries\n",
    "\n",
    "Code organization in Python is done using modules, and there are quite a few\n",
    "already built-in modules, including\n",
    "\n",
    "- The math module for all math-related functions\n",
    "- The re module for regular expressions\n",
    "- The os module for functions related to the operating system\n",
    "- And many more.\n"
   ]
  },
  {
   "cell_type": "markdown",
   "id": "e828affc",
   "metadata": {},
   "source": [
    "Using a module is simple enough, but it must be imported. We do this with\n",
    "the `import` statement:\n",
    "\n",
    "```\n",
    "import module_name\n",
    "```\n",
    "\n",
    "or to import multiple modules at once:\n",
    "\n",
    "```\n",
    "import module_name_1, module_name_2\n",
    "```\n"
   ]
  },
  {
   "cell_type": "code",
   "execution_count": null,
   "id": "fb77a576",
   "metadata": {},
   "outputs": [],
   "source": [
    "# Example\n",
    "\n",
    "import math, os\n",
    " \n",
    "print(math.pi)\n",
    "print(math.e)\n",
    "print(math.sqrt(2))\n",
    "\n",
    "print( os.getcwd() ) # print the current working directory\n"
   ]
  },
  {
   "cell_type": "markdown",
   "id": "dfb8b9c7",
   "metadata": {},
   "source": [
    "The first line of the code above imports all the classes, functions, constants, and  \n",
    "variables, the `os` and `math` modules include. Accessing an object in a module    \n",
    "requires the module name, a dot, and the object name which can be a class, a  \n",
    "constant, a function, or a variable. In our example, we want to access *pi* and *e*  \n",
    "– common constants from the math module. Next, we call functions   \n",
    "`sqrt()` and `getcwd()` from the imported modules "
   ]
  },
  {
   "cell_type": "markdown",
   "id": "9bbd72fa",
   "metadata": {},
   "source": [
    "We can import a specific function from a module. For example,\n",
    "\n",
    "```python\n",
    "from math import sqrt\n",
    "```\n",
    "then we can use `sqrt` function without refering the module.\n",
    "\n",
    "`sqrt(25)` will give 5. \n",
    "\n",
    "\n",
    "We can import multiple functions at once:\n",
    "\n",
    "```python\n",
    "from math import cos, floor\n",
    "```\n",
    " \n",
    "We can import all functions in a module (generally discouraged)\n",
    "\n",
    "```python\n",
    "from os import *\n",
    "```\n",
    "Show all functions in math module\n",
    "\n",
    "```python\n",
    "content = dir(math)\n",
    "```"
   ]
  },
  {
   "cell_type": "markdown",
   "id": "3e5b4fda",
   "metadata": {},
   "source": [
    "### Python Numbers (Numericals)\n",
    "\n",
    "There are three type of numerical value:\n",
    "\n",
    "`int` – integer values, which are whole numbers – 2, 0, 10, -1000000, etc.  \n",
    "\n",
    "`float` – floating point numbers, those with decimal points \n",
    " -1.1, 3.14, -5.5, 2.7846. etc.  \n",
    "\n",
    "`complex` – complex numbers such as 1+9j, -1+7j, 2j, 2.71+3.14j, etc.\n"
   ]
  },
  {
   "cell_type": "markdown",
   "id": "2c930541",
   "metadata": {},
   "source": [
    "- Integers  \n",
    "All Python integer literals are part of the `int` class.\n",
    "\n",
    "For example:\n",
    "\n",
    "n = 15  \n",
    "print(n)\n",
    "\n",
    "- Floats  \n",
    "A floating point number is a literal containing a decimal point.\n",
    "\n",
    "For example,   \n",
    "p = 1.52  \n",
    "print(p)\n",
    "\n",
    "\n",
    "Note that when an operand for a numeric operator is a floating\n",
    "value, the result will also be a floating value.\n",
    "\n",
    "Example \n",
    "\n",
    "print(3 * 1.5)   \n",
    "The output is:  \n",
    "4.5\n",
    "\n",
    "\n",
    "- Complex Number  \n",
    "Complex numbers are made up of two parts – imaginary part and real part.  \n",
    " `j` is used to denote imaginary unit. Complex numbers may be defined in this way\n",
    "\n",
    "For example,  \n",
    "\n",
    "x= 2+3j    \n",
    "print(x)    \n",
    "print(x.real) $\\quad$ $\\quad$ prints real part    \n",
    "print(x.imag)  $\\quad$ $\\quad$ prints imaginary part  \n"
   ]
  },
  {
   "cell_type": "markdown",
   "id": "c0563bec",
   "metadata": {},
   "source": [
    "### Python Operators\n",
    "Python has several built-in number operators used for carrying out\n",
    "calculations in code. Some of them are:\n"
   ]
  },
  {
   "cell_type": "markdown",
   "id": "b51c14a3",
   "metadata": {},
   "source": [
    "Operator | $\\:\\:\\:\\:\\:\\:\\:$ $\\:\\:\\:\\:\\:\\:\\:$  Name | \n",
    ":-------------------|:---------------:|\n",
    "+   $\\:\\:\\:\\:\\:\\:\\:$  $\\:\\:\\:\\:\\:\\:\\:$   | Addition/Summation    | \n",
    "- $\\:\\:\\:\\:\\:\\:\\:$  $\\:\\:\\:\\:\\:\\:\\:$  |Subtraction|\n",
    "* $\\:\\:\\:\\:\\:\\:\\:$  $\\:\\:\\:\\:\\:\\:\\:$ |Multiplication|\n",
    "** $\\:\\:\\:\\:\\:\\:\\:$  $\\:\\:\\:\\:\\:\\:\\:$ |Exponentation |\n",
    "/ $\\:\\:\\:\\:\\:\\:\\:$  $\\:\\:\\:\\:\\:\\:\\:$ |Float division|\n",
    "// $\\:\\:\\:\\:\\:\\:\\:$  $\\:\\:\\:\\:\\:\\:\\:$ |Integer division |\n",
    "% $\\:\\:\\:\\:\\:\\:\\:$  $\\:\\:\\:\\:\\:\\:\\:$ |Remainder |                                                    \n",
    "                                                   "
   ]
  },
  {
   "cell_type": "code",
   "execution_count": null,
   "id": "fc54c82d",
   "metadata": {},
   "outputs": [],
   "source": [
    "# Examples\n",
    "\n",
    "print ( 2+3.4 )\n",
    "print(10-2)\n",
    "print(3*4)\n",
    "print(2**4)\n",
    "print(9/2)\n",
    "print(9//2)\n",
    "print(9%2)"
   ]
  },
  {
   "cell_type": "markdown",
   "id": "8e056013",
   "metadata": {},
   "source": [
    "#### Float Division\n",
    "The division operator `(/)` divides the given numbers and returns a floating-point number  \n",
    "as the result. This means that the result will always return a fractional part.\n",
    "\n",
    "For example,  \n",
    "\n",
    "`5/2` will return 2.5\n",
    "\n",
    "#### Integer Division\n",
    "Integer division `(//)` does the division operation but truncates the result, so the  \n",
    "decimal or fractional part is not shown, only the integer.   \n",
    "\n",
    "For example  \n",
    "\n",
    "`5//2` will return 2\n",
    "\n",
    "#### Exponential\n",
    "The exponential operator `(**)` will compute a raised to the power of $b: a^b.$  \n",
    "\n",
    "For example,\n",
    "\n",
    "`3**4` is the same as `3*3*3*3` and both result in 81.\n",
    "\n",
    "\n",
    "#### Remainder Operator\n",
    "The remainder operator `(%)` is also called the modulus operator, and it returns\n",
    "the remainder after a division operation. \n",
    "\n",
    "For example,     \n",
    "\n",
    "`9 % 2` will return 1.  \n",
    "this means that 2 goes into 9 four times with 1 left over.\n"
   ]
  },
  {
   "cell_type": "markdown",
   "id": "c6cf0fbb",
   "metadata": {},
   "source": [
    "#### Augmented Assignment Operator\n",
    "Augmented assignment operators let you use shortcuts for assignment\n",
    "statements.   \n",
    "\n",
    "For example,\n",
    "  \n",
    "    \n",
    "```python\n",
    "count = 1  \n",
    "count = count + 1  \n",
    "print(count)\n",
    "```\n",
    "\n",
    "\n",
    "Could be written as\n",
    "```python\n",
    "count = 1\n",
    "count += 1\n",
    "print(count)\n",
    "```\n",
    "\n",
    "Both will return 2.  \n",
    "\n",
    "The other operators may be combined with the assignment operator to\n",
    "give us augmented assignment operators. See the table below."
   ]
  },
  {
   "cell_type": "markdown",
   "id": "d1eab70b",
   "metadata": {},
   "source": [
    "Operator |Name |Example|Equivalent\n",
    ":-----|:-----|:-----|:------\n",
    "+=      | Addition assignment| x+=2| x=x+2\n",
    "-=   |Subtraction assignment| x-=1 |x=x-1\n",
    "*=  |Multiplication assignment| x*=2|x=x*2\n",
    "**=  |Exponentation assignment |x**=3|x=x**3\n",
    "/=  |Float division assignment| x/=2|x=x/2\n",
    "//=  |Integer division assignment| x//=3|x=x//2\n",
    "%=  |Remainder assignment| x%=4|x=x%4\n",
    " "
   ]
  },
  {
   "cell_type": "code",
   "execution_count": null,
   "id": "e80639ed",
   "metadata": {},
   "outputs": [],
   "source": [
    "# Example\n",
    "\n",
    "fruits = ['apple','banana', 'cherry']\n",
    "count = 0\n",
    "for i in range(len(fruits)):\n",
    "    count+=1\n",
    "print(count)\n",
    "\n"
   ]
  },
  {
   "cell_type": "markdown",
   "id": "9521e3ea",
   "metadata": {},
   "source": [
    "#### Boolean operations\n",
    "\n",
    "Booleans represent one of two values: `True` or `False`.\n",
    "\n",
    "###### Boolean comparisons: \n",
    "    \n",
    "When you compare two values, the expression is evaluated and Python returns the Boolean answer:\n",
    "\n",
    "\n",
    "Examples:\n",
    "    \n",
    "```python\n",
    "5 > 3\n",
    "5 >= 3\n",
    "5 != 3\n",
    "5 == 5\n",
    "```\n",
    "\n",
    "**Python Comparison Operators:** Comparison operators are used to compare two values.   \n",
    "The list of compariosn operators are given below.\n",
    "\n",
    "\n",
    "Operator |Name |Example|\n",
    ":-----|:-----|:-----|\n",
    "==      | Equal| 3==3| \n",
    "!=   |Not equal| 1!=2 |\n",
    "> |Greater than| 3>2|\n",
    "<  |Less than |5<4|\n",
    ">=  |Greater than or equal to| x>=2|\n",
    "<=  |Less than or equal to| x<=3|\n",
    "\n",
    " \n",
    "\n",
    "    \n",
    "    \n",
    "\n",
    "\n",
    "\n",
    "\n",
    "\n"
   ]
  },
  {
   "cell_type": "code",
   "execution_count": null,
   "id": "97cfc6a3",
   "metadata": {},
   "outputs": [],
   "source": [
    "# Example\n",
    "a = 5\n",
    "b=-10\n",
    "x=15\n",
    "y=15\n",
    "\n",
    "print(2==3) #False\n",
    "print(2==2) #True\n",
    "print(x!=y) #False as both x and y are 15\n",
    "print(x>a)  # True\n",
    "print(b>=a) # False\n",
    "print(b<=x) # True"
   ]
  },
  {
   "cell_type": "markdown",
   "id": "3d5dd4d3",
   "metadata": {},
   "source": [
    "**Python Logical Operators:**\n",
    "Logical operators are used to combine conditional statements. Here is the list\n",
    "\n",
    "\n",
    "Operator |$\\quad$ $\\quad$ $\\quad$ $\\quad$ Description |Example|\n",
    ":-----|:-----|:-----|\n",
    "and |Returns True if both statements are true| x < 5 and  x < 10\n",
    "or |Returns True if one of the statements is true| x < 5 or x < 4\n",
    "not |Reverse the result, returns False if the result is true| not(x < 5 and x < 10)"
   ]
  },
  {
   "cell_type": "code",
   "execution_count": null,
   "id": "a0a159f4",
   "metadata": {},
   "outputs": [],
   "source": [
    "#Example\n",
    "print(x==y and a>=b) # True\n",
    "print(x!=y or a<b) # False as both statements are false\n"
   ]
  },
  {
   "cell_type": "markdown",
   "id": "497aa3fc",
   "metadata": {},
   "source": [
    "**Python Identity Operators:**\n",
    "Identity operators are used to compare the objects, not if they are equal,   \n",
    "but if they are actually the same object, with the same memory location\n",
    "\n",
    "\n",
    "Operator |$\\quad$ $\\quad$ $\\quad$ $\\quad$ Description |Example|\n",
    ":-----|:-----|:-----|\n",
    "is |Returns True if both variables are the same object| x is y\n",
    "is not  |Returns False if both variables are the same object | x is not y\n",
    "\n",
    "*Note:* The `id()` function returns the location of a given object/variable in Python.\n",
    "    \n",
    "\n",
    "\n",
    "\n",
    "\n"
   ]
  },
  {
   "cell_type": "code",
   "execution_count": null,
   "id": "ff0c0e00",
   "metadata": {},
   "outputs": [],
   "source": [
    "#Example\n",
    "a = 5\n",
    "b=-10\n",
    "x=15\n",
    "y=15\n",
    "\n",
    "\n",
    "print(x is y)\n",
    "print(a is not b)\n",
    "print(a is not 5)\n",
    "print(a is not b)\n",
    "print (a is y)\n",
    "print(b is not 10)"
   ]
  },
  {
   "cell_type": "markdown",
   "id": "d170557c",
   "metadata": {},
   "source": [
    "**Python Membership Operators:**\n",
    "Membership operators are used to test if a sequence is presented in an object\n",
    "\n",
    "\n",
    "Operator |$\\quad$ $\\quad$ $\\quad$ $\\quad$ Description |Example|\n",
    ":-----|:-----|:-----|\n",
    "in | Returns True if a sequence with the specified value is present in the object| x in y\n",
    "not in  | Returns True if a sequence with the specified value is not present in the object | x not in y"
   ]
  },
  {
   "cell_type": "code",
   "execution_count": null,
   "id": "61ca0622",
   "metadata": {},
   "outputs": [],
   "source": [
    "#Example\n",
    "\n",
    "fruits = ['apple','banana', 'cherry']\n",
    "\n",
    "print('apple' in fruits)\n",
    "print('cherry' not in fruits)\n",
    "print('apple' and 'banana' in fruits)"
   ]
  },
  {
   "cell_type": "code",
   "execution_count": null,
   "id": "cdcbd80e",
   "metadata": {},
   "outputs": [],
   "source": []
  }
 ],
 "metadata": {
  "kernelspec": {
   "display_name": "Python 3 (ipykernel)",
   "language": "python",
   "name": "python3"
  },
  "language_info": {
   "codemirror_mode": {
    "name": "ipython",
    "version": 3
   },
   "file_extension": ".py",
   "mimetype": "text/x-python",
   "name": "python",
   "nbconvert_exporter": "python",
   "pygments_lexer": "ipython3",
   "version": "3.9.12"
  }
 },
 "nbformat": 4,
 "nbformat_minor": 5
}
